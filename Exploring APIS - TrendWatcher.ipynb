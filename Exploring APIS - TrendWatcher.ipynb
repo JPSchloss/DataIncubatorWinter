{
 "cells": [
  {
   "cell_type": "markdown",
   "metadata": {},
   "source": [
    "# Exploring APIs - TrendWatcher"
   ]
  },
  {
   "cell_type": "markdown",
   "metadata": {},
   "source": [
    "### Description of Script"
   ]
  },
  {
   "cell_type": "markdown",
   "metadata": {},
   "source": [
    "### Preparation"
   ]
  },
  {
   "cell_type": "markdown",
   "metadata": {},
   "source": [
    "#### Importing Config File"
   ]
  },
  {
   "cell_type": "code",
   "execution_count": null,
   "metadata": {},
   "outputs": [],
   "source": [
    "import config as config"
   ]
  },
  {
   "cell_type": "markdown",
   "metadata": {},
   "source": [
    "### Facebook"
   ]
  },
  {
   "cell_type": "markdown",
   "metadata": {},
   "source": [
    "#### Notes\n",
    "- The data from here is not as detailed as one would want. \n",
    "    - Will either need serious data wrangling or a different data source. \n",
    "- Facebook API credentials need to be updated and corrected. \n",
    "    - Do not have the autenthication to do most of the calls. "
   ]
  },
  {
   "cell_type": "markdown",
   "metadata": {},
   "source": [
    "#### Resources\n",
    "\n",
    " - https://developers.facebook.com/docs/graph-api/using-graph-api\n",
    " - https://pypi.org/project/python-facebook-api/\n",
    " - https://developers.facebook.com/docs/graph-api"
   ]
  },
  {
   "cell_type": "markdown",
   "metadata": {},
   "source": [
    "#### Setting up API access with alternatives"
   ]
  },
  {
   "cell_type": "code",
   "execution_count": null,
   "metadata": {},
   "outputs": [],
   "source": [
    "pip install --upgrade python-facebook-api"
   ]
  },
  {
   "cell_type": "code",
   "execution_count": null,
   "metadata": {},
   "outputs": [],
   "source": [
    "import pyfacebook as pypi"
   ]
  },
  {
   "cell_type": "code",
   "execution_count": null,
   "metadata": {},
   "outputs": [],
   "source": [
    "app_id = config.Facebook_API['id']\n",
    "app_secret = config.Facebook_API['secret']\n",
    "\n",
    "api = pypi.Api(app_id=app_id, app_secret=app_secret, application_only_auth=True)\n",
    "api.get_token_info(return_json=True)"
   ]
  },
  {
   "cell_type": "code",
   "execution_count": null,
   "metadata": {},
   "outputs": [],
   "source": [
    "api = pypi.Api(app_id=\"your app id\", app_secret=\"your app secret\", short_token=\"short-lived token\")\n",
    "api.get_token_info()"
   ]
  },
  {
   "cell_type": "code",
   "execution_count": null,
   "metadata": {},
   "outputs": [],
   "source": [
    "api = pypi.Api(app_id=\"your app id\", app_secret=\"your app secret\", long_term_token=\"long-term token\")\n",
    "api.get_token_info()"
   ]
  },
  {
   "cell_type": "markdown",
   "metadata": {},
   "source": [
    "#### Getting Page Info"
   ]
  },
  {
   "cell_type": "code",
   "execution_count": null,
   "metadata": {},
   "outputs": [],
   "source": [
    "api.get_page_info(page_id='20531316728')\n",
    "api.get_page_info(username='facebookapp')"
   ]
  },
  {
   "cell_type": "code",
   "execution_count": null,
   "metadata": {},
   "outputs": [],
   "source": [
    "api.get_pages_info(ids=[\"20531316728\", \"nba\"])"
   ]
  },
  {
   "cell_type": "markdown",
   "metadata": {},
   "source": [
    "#### Getting Page Posts"
   ]
  },
  {
   "cell_type": "code",
   "execution_count": null,
   "metadata": {},
   "outputs": [],
   "source": [
    "api.get_page_feeds(page_id=\"20531316728\",count=2)"
   ]
  },
  {
   "cell_type": "code",
   "execution_count": null,
   "metadata": {},
   "outputs": [],
   "source": [
    "api.get_page_posts(page_id=\"20531316728\",count=2)"
   ]
  },
  {
   "cell_type": "code",
   "execution_count": null,
   "metadata": {},
   "outputs": [],
   "source": [
    "# Needs manual page authorization\n",
    "api.get_published_posts(username='facebookapp', access_token='page access token')"
   ]
  },
  {
   "cell_type": "code",
   "execution_count": null,
   "metadata": {},
   "outputs": [],
   "source": [
    "# Needs manual page authorization\n",
    "api.get_tagged_posts(username='facebookapp', access_token='page access token')"
   ]
  },
  {
   "cell_type": "markdown",
   "metadata": {},
   "source": [
    "#### Getting Post Info"
   ]
  },
  {
   "cell_type": "code",
   "execution_count": null,
   "metadata": {},
   "outputs": [],
   "source": [
    "api.get_post_info(post_id=\"20531316728_587455038708591\")"
   ]
  },
  {
   "cell_type": "code",
   "execution_count": null,
   "metadata": {},
   "outputs": [],
   "source": [
    "api.get_posts_info(ids=[\"20531316728_587455038708591\", \"20531316728_10159023836696729\"])"
   ]
  },
  {
   "cell_type": "markdown",
   "metadata": {},
   "source": [
    "#### Getting Comments"
   ]
  },
  {
   "cell_type": "code",
   "execution_count": null,
   "metadata": {},
   "outputs": [],
   "source": [
    "api.get_comments_by_object(object_id=\"20531316728_587455038708591\", count=2)"
   ]
  },
  {
   "cell_type": "code",
   "execution_count": null,
   "metadata": {},
   "outputs": [],
   "source": [
    "api.get_comment_info(comment_id=\"587455038708591_587460942041334\")"
   ]
  },
  {
   "cell_type": "code",
   "execution_count": null,
   "metadata": {},
   "outputs": [],
   "source": [
    "api.get_comments_info(ids=[\"587455038708591_587460942041334\", \"587455038708591_587464298707665\"])"
   ]
  },
  {
   "cell_type": "markdown",
   "metadata": {},
   "source": [
    "### Instagram"
   ]
  },
  {
   "cell_type": "markdown",
   "metadata": {},
   "source": [
    "#### Notes\n",
    "- The data from here is not as detailed as one would want. \n",
    "    - Will either need serious data wrangling or a different data source. \n",
    "- Facebook API credentials need to be updated and corrected. \n",
    "    - Do not have the autenthication to do most of the calls. "
   ]
  },
  {
   "cell_type": "markdown",
   "metadata": {},
   "source": [
    "#### Resources\n",
    "\n",
    "- https://pypi.org/project/python-facebook-api/"
   ]
  },
  {
   "cell_type": "markdown",
   "metadata": {},
   "source": [
    "#### Setting up API"
   ]
  },
  {
   "cell_type": "code",
   "execution_count": null,
   "metadata": {},
   "outputs": [],
   "source": [
    "import pyfacebook as pypi"
   ]
  },
  {
   "cell_type": "code",
   "execution_count": null,
   "metadata": {},
   "outputs": [],
   "source": [
    "api = pyfacebook.InstagramApi(\n",
    "    app_id = 'App ID',\n",
    "    app_secret='App secret',\n",
    "    short_token='your temporary token',\n",
    "    instagram_business_id='your Instagram business id')\n",
    "\n"
   ]
  },
  {
   "cell_type": "code",
   "execution_count": null,
   "metadata": {},
   "outputs": [],
   "source": [
    "# Use long-term tokens\n",
    "api = pyfacebook.InstagramApi(\n",
    "    long_term_token='your long term access token',\n",
    "    instagram_business_id='your Instagram business id')"
   ]
  },
  {
   "cell_type": "markdown",
   "metadata": {},
   "source": [
    "#### Finding User Info"
   ]
  },
  {
   "cell_type": "code",
   "execution_count": null,
   "metadata": {},
   "outputs": [],
   "source": [
    "api.discovery_user(username=\"facebook\")"
   ]
  },
  {
   "cell_type": "markdown",
   "metadata": {},
   "source": [
    "#### Finding User Media"
   ]
  },
  {
   "cell_type": "code",
   "execution_count": null,
   "metadata": {},
   "outputs": [],
   "source": [
    "api.discovery_user_medias(username=\"facebook\", count=2)"
   ]
  },
  {
   "cell_type": "markdown",
   "metadata": {},
   "source": [
    "#### Getting Post Info"
   ]
  },
  {
   "cell_type": "code",
   "execution_count": null,
   "metadata": {},
   "outputs": [],
   "source": [
    "api.get_media_info(media_id=\"18075344632131157\")"
   ]
  },
  {
   "cell_type": "code",
   "execution_count": null,
   "metadata": {},
   "outputs": [],
   "source": [
    "api.get_medias_info(media_ids=[\"18075344632131157\", \"18027939643230671\"])"
   ]
  },
  {
   "cell_type": "markdown",
   "metadata": {},
   "source": [
    "#### Getting Comments"
   ]
  },
  {
   "cell_type": "code",
   "execution_count": null,
   "metadata": {},
   "outputs": [],
   "source": [
    "api.get_comments_by_media(media_id=\"17955956875141196\", count=2)"
   ]
  },
  {
   "cell_type": "code",
   "execution_count": null,
   "metadata": {},
   "outputs": [],
   "source": [
    "api.get_comment_info(comment_id=\"17862949873623188\")"
   ]
  },
  {
   "cell_type": "code",
   "execution_count": null,
   "metadata": {},
   "outputs": [],
   "source": [
    "api.get_comments_info(comment_ids=[\"17862949873623188\", \"17844360649889631\"])"
   ]
  },
  {
   "cell_type": "markdown",
   "metadata": {},
   "source": [
    "#### Getting Replies to A Comments"
   ]
  },
  {
   "cell_type": "code",
   "execution_count": null,
   "metadata": {},
   "outputs": [],
   "source": [
    "api.get_replies_by_comment(\"17984127178281340\", count=2)"
   ]
  },
  {
   "cell_type": "markdown",
   "metadata": {},
   "source": [
    "#### Getting Replies By ID"
   ]
  },
  {
   "cell_type": "code",
   "execution_count": null,
   "metadata": {},
   "outputs": [],
   "source": [
    "api.get_reply_info(reply_id=\"18107567341036926\")"
   ]
  },
  {
   "cell_type": "code",
   "execution_count": null,
   "metadata": {},
   "outputs": [],
   "source": [
    "api.get_replies_info(reply_ids=[\"18107567341036926\", \"17846106427692294\"])"
   ]
  },
  {
   "cell_type": "markdown",
   "metadata": {},
   "source": [
    "#### Getting User Insights"
   ]
  },
  {
   "cell_type": "code",
   "execution_count": null,
   "metadata": {},
   "outputs": [],
   "source": [
    "api.get_user_insights(user_id=api.instagram_business_id, period=\"day\", metrics=[\"impressions\", \"reach\"])"
   ]
  },
  {
   "cell_type": "markdown",
   "metadata": {},
   "source": [
    "#### Hashtags"
   ]
  },
  {
   "cell_type": "code",
   "execution_count": null,
   "metadata": {},
   "outputs": [],
   "source": [
    "# Getting hashtag ID\n",
    "api.search_hashtag(q=\"love\")"
   ]
  },
  {
   "cell_type": "code",
   "execution_count": null,
   "metadata": {},
   "outputs": [],
   "source": [
    "# Getting hashtag info\n",
    "api.get_hashtag_info(hashtag_id=\"17843826142012701\")"
   ]
  },
  {
   "cell_type": "code",
   "execution_count": null,
   "metadata": {},
   "outputs": [],
   "source": [
    "# Getting the top media associated with a hashtag\n",
    "api.get_hashtag_top_medias(hashtag_id=\"17843826142012701\", count=5)"
   ]
  },
  {
   "cell_type": "code",
   "execution_count": null,
   "metadata": {},
   "outputs": [],
   "source": [
    "# Getting recent media associated with a hashtag\n",
    "api.get_hashtag_recent_medias(hashtag_id=\"17843826142012701\", count=5)"
   ]
  },
  {
   "cell_type": "markdown",
   "metadata": {},
   "source": [
    "#### Getting Info Based on Mentions"
   ]
  },
  {
   "cell_type": "code",
   "execution_count": null,
   "metadata": {},
   "outputs": [],
   "source": [
    "api.get_mentioned_comment_info(user_id=api.instagram_business_id, comment_id=\"17892250648466172\")"
   ]
  },
  {
   "cell_type": "code",
   "execution_count": null,
   "metadata": {},
   "outputs": [],
   "source": [
    "api.get_mentioned_media_info(user_id=api.instagram_business_id, media_id=\"18027939643230671\")"
   ]
  },
  {
   "cell_type": "markdown",
   "metadata": {},
   "source": [
    "### Twitter"
   ]
  },
  {
   "cell_type": "markdown",
   "metadata": {},
   "source": [
    "#### Notes\n",
    "- As of now, the last two geo-related code snippets are nto in working order. \n",
    "    - Only really relate when looking more specifically at a particulat location. "
   ]
  },
  {
   "cell_type": "markdown",
   "metadata": {},
   "source": [
    "#### Resources\n",
    "- https://github.com/tweepy/tweepy\n",
    "- https://www.earthdatascience.org/courses/use-data-open-source-python/intro-to-apis/twitter-data-in-python/\n",
    "- http://docs.tweepy.org/en/v3.5.0/streaming_how_to.html\n",
    "- http://docs.tweepy.org/en/v3.5.0/api.html"
   ]
  },
  {
   "cell_type": "markdown",
   "metadata": {},
   "source": [
    "#### Setting Up API"
   ]
  },
  {
   "cell_type": "code",
   "execution_count": null,
   "metadata": {},
   "outputs": [],
   "source": [
    "pip install tweepy"
   ]
  },
  {
   "cell_type": "code",
   "execution_count": null,
   "metadata": {},
   "outputs": [],
   "source": [
    "import tweepy as tw\n",
    "\n",
    "key = config.Twitter_API[\"key\"]\n",
    "secret = config.Twitter_API[\"secret\"]\n",
    "token = config.Twitter_API[\"token\"]\n",
    "token_secret = config.Twitter_API[\"token_secret\"]\n",
    "\n",
    "auth = tw.OAuthHandler(key, secret)\n",
    "auth.set_access_token(token, token_secret)\n",
    "api = tw.API(auth, wait_on_rate_limit=True, wait_on_rate_limit_notify=True)"
   ]
  },
  {
   "cell_type": "markdown",
   "metadata": {},
   "source": [
    "#### Search for Tweets"
   ]
  },
  {
   "cell_type": "code",
   "execution_count": null,
   "metadata": {},
   "outputs": [],
   "source": [
    "search_words = \"#panda\"\n",
    "date_since = \"2020-11-16\"\n",
    "\n",
    "tweets = tw.Cursor(api.search,\n",
    "              q=search_words,\n",
    "              lang=\"en\",\n",
    "              since=date_since).items(5)\n",
    "\n",
    "for tweet in tweets:\n",
    "    print('Created At:', tweet.created_at)\n",
    "    print('ID:', tweet.id)\n",
    "    print('Tweet Text:', tweet.text)\n",
    "    print('---------------------------------------')\n",
    "# There is a lot of information about the tweets in the JSON. \n",
    "\n",
    "print(tweet)"
   ]
  },
  {
   "cell_type": "markdown",
   "metadata": {},
   "source": [
    "#### Searching without retweets"
   ]
  },
  {
   "cell_type": "code",
   "execution_count": null,
   "metadata": {},
   "outputs": [],
   "source": [
    "no_retweets_search = search_words + \" -filter:retweets\"\n",
    "\n",
    "tweets = tw.Cursor(api.search,\n",
    "                       q=no_retweets_search,\n",
    "                       lang=\"en\",\n",
    "                       since=date_since).items(5)"
   ]
  },
  {
   "cell_type": "markdown",
   "metadata": {},
   "source": [
    "#### Status Lookup"
   ]
  },
  {
   "cell_type": "code",
   "execution_count": null,
   "metadata": {},
   "outputs": [],
   "source": [
    "status_id = '1328933323784265728'\n",
    "\n",
    "status = api.statuses_lookup(status_id)\n",
    "\n",
    "print(status)"
   ]
  },
  {
   "cell_type": "markdown",
   "metadata": {},
   "source": [
    "#### User Timeline Information"
   ]
  },
  {
   "cell_type": "code",
   "execution_count": null,
   "metadata": {},
   "outputs": [],
   "source": [
    "user_id = '863334503564967937'\n",
    "\n",
    "timeline = api.user_timeline(user_id)\n",
    "\n",
    "for post in timeline:\n",
    "    print(post)"
   ]
  },
  {
   "cell_type": "markdown",
   "metadata": {},
   "source": [
    "#### Retweets"
   ]
  },
  {
   "cell_type": "code",
   "execution_count": null,
   "metadata": {},
   "outputs": [],
   "source": [
    "status_id = '1328933323784265728'\n",
    "\n",
    "retweets = api.retweets(status_id)\n",
    "\n",
    "for retweet in retweets:\n",
    "    print(retweet)"
   ]
  },
  {
   "cell_type": "markdown",
   "metadata": {},
   "source": [
    "#### User Information"
   ]
  },
  {
   "cell_type": "code",
   "execution_count": null,
   "metadata": {},
   "outputs": [],
   "source": [
    "user_id = '863334503564967937'\n",
    "\n",
    "user = api.get_user(user_id)\n",
    "\n",
    "print(user)"
   ]
  },
  {
   "cell_type": "markdown",
   "metadata": {},
   "source": [
    "#### Followers"
   ]
  },
  {
   "cell_type": "code",
   "execution_count": null,
   "metadata": {},
   "outputs": [],
   "source": [
    "followers = api.followers(user_id)\n",
    "\n",
    "print(followers)"
   ]
  },
  {
   "cell_type": "code",
   "execution_count": null,
   "metadata": {},
   "outputs": [],
   "source": [
    "follower_ids = api.followers_ids(user_id)\n",
    "print(follower_ids)"
   ]
  },
  {
   "cell_type": "markdown",
   "metadata": {},
   "source": [
    "#### Searching for users"
   ]
  },
  {
   "cell_type": "code",
   "execution_count": null,
   "metadata": {},
   "outputs": [],
   "source": [
    "# Can change page numbers in order to access more results\n",
    "q = 'bob'\n",
    "\n",
    "users = api.search_users(q)\n",
    "\n",
    "for user in users:\n",
    "    print(user.name)"
   ]
  },
  {
   "cell_type": "markdown",
   "metadata": {},
   "source": [
    "#### Freindship Information "
   ]
  },
  {
   "cell_type": "code",
   "execution_count": null,
   "metadata": {},
   "outputs": [],
   "source": [
    "user_1 = '371201056'\n",
    "user_2 = '1253240108574101504'"
   ]
  },
  {
   "cell_type": "code",
   "execution_count": null,
   "metadata": {},
   "outputs": [],
   "source": [
    "api.show_friendship(source_id=user_1, target_id=user_2)"
   ]
  },
  {
   "cell_type": "markdown",
   "metadata": {},
   "source": [
    "#### Friends"
   ]
  },
  {
   "cell_type": "code",
   "execution_count": null,
   "metadata": {},
   "outputs": [],
   "source": [
    "api.friends_ids(user_1)"
   ]
  },
  {
   "cell_type": "markdown",
   "metadata": {},
   "source": [
    "#### Favorites"
   ]
  },
  {
   "cell_type": "code",
   "execution_count": null,
   "metadata": {},
   "outputs": [],
   "source": [
    "favorites = api.favorites(id=user_id)\n",
    "\n",
    "print(favorites)"
   ]
  },
  {
   "cell_type": "markdown",
   "metadata": {},
   "source": [
    "#### Trends"
   ]
  },
  {
   "cell_type": "code",
   "execution_count": null,
   "metadata": {},
   "outputs": [],
   "source": [
    "# Locations where trend information is available. \n",
    "trend_locations = api.trends_available()\n",
    " \n",
    "print(trend_locations)"
   ]
  },
  {
   "cell_type": "code",
   "execution_count": null,
   "metadata": {},
   "outputs": [],
   "source": [
    "woeid = '13911'\n",
    "\n",
    "trends = api.trends_place(woeid)\n",
    "\n",
    "print(trends)"
   ]
  },
  {
   "cell_type": "code",
   "execution_count": null,
   "metadata": {},
   "outputs": [],
   "source": [
    "api.trends_closest(lat, long)"
   ]
  },
  {
   "cell_type": "code",
   "execution_count": null,
   "metadata": {},
   "outputs": [],
   "source": [
    "api.geo_id()"
   ]
  },
  {
   "cell_type": "markdown",
   "metadata": {},
   "source": [
    "#### Streaming Tweets"
   ]
  },
  {
   "cell_type": "code",
   "execution_count": null,
   "metadata": {},
   "outputs": [],
   "source": [
    "# Step 1: Creating a Stream Listener\n",
    "import tweepy as tw\n",
    "\n",
    "class AStreamListener(tw.StreamListener):\n",
    "    def on_status(self, status):\n",
    "        print(status.text)"
   ]
  },
  {
   "cell_type": "code",
   "execution_count": null,
   "metadata": {},
   "outputs": [],
   "source": [
    "# Step 2: Creating a stream\n",
    "TestStream = AStreamListener\n",
    "stream_wf = tweepy.Stream(auth = api.auth, listener=TestStream())"
   ]
  },
  {
   "cell_type": "code",
   "execution_count": null,
   "metadata": {},
   "outputs": [],
   "source": [
    "# Step 3: Starting a stream\n",
    "stream_wf.filter(track=['python'])"
   ]
  },
  {
   "cell_type": "markdown",
   "metadata": {},
   "source": [
    "### TikTok"
   ]
  },
  {
   "cell_type": "markdown",
   "metadata": {},
   "source": [
    "#### Notes\n",
    "- There are challenges running this API. \n",
    "    - The developer of the wrapper has recently changed things. Was working before but now it is throwing errors left and right. Will need to explore a bit to solve this issue. "
   ]
  },
  {
   "cell_type": "markdown",
   "metadata": {},
   "source": [
    "#### Resources\n",
    "- https://github.com/davidteather/TikTok-Api#the-gettiktokbyurl-method\n",
    "- https://towardsdatascience.com/how-to-collect-data-from-tiktok-tutorial-ab848b40d191"
   ]
  },
  {
   "cell_type": "markdown",
   "metadata": {},
   "source": [
    "#### Setting Up the API"
   ]
  },
  {
   "cell_type": "code",
   "execution_count": null,
   "metadata": {},
   "outputs": [],
   "source": [
    "brew cask install chromedriver\n",
    "\n",
    "brew reinstall chromedriver\n",
    "\n",
    "chromedriver --version\n",
    "\n",
    "pip install playwright\n",
    "python -m playwright install\n",
    "\n",
    "pip install TikTokApi\n",
    "\n",
    "pip install TikTokApi --upgrade\n",
    "\n",
    "pip install pyppeteer"
   ]
  },
  {
   "cell_type": "code",
   "execution_count": 3,
   "metadata": {},
   "outputs": [
    {
     "ename": "ImportError",
     "evalue": "cannot import name 'set_async' from 'TikTokApi.browser' (/Users/jonathanschlosser/opt/anaconda3/lib/python3.7/site-packages/TikTokApi/browser.py)",
     "output_type": "error",
     "traceback": [
      "\u001b[0;31m---------------------------------------------------------------------------\u001b[0m",
      "\u001b[0;31mImportError\u001b[0m                               Traceback (most recent call last)",
      "\u001b[0;32m<ipython-input-3-38c490c4755a>\u001b[0m in \u001b[0;36m<module>\u001b[0;34m\u001b[0m\n\u001b[1;32m      1\u001b[0m \u001b[0;32mimport\u001b[0m \u001b[0mjson\u001b[0m\u001b[0;34m\u001b[0m\u001b[0;34m\u001b[0m\u001b[0m\n\u001b[1;32m      2\u001b[0m \u001b[0;32mfrom\u001b[0m \u001b[0mTikTokApi\u001b[0m \u001b[0;32mimport\u001b[0m \u001b[0mTikTokApi\u001b[0m\u001b[0;34m\u001b[0m\u001b[0;34m\u001b[0m\u001b[0m\n\u001b[0;32m----> 3\u001b[0;31m \u001b[0;32mfrom\u001b[0m \u001b[0mTikTokApi\u001b[0m\u001b[0;34m.\u001b[0m\u001b[0mbrowser\u001b[0m \u001b[0;32mimport\u001b[0m \u001b[0mset_async\u001b[0m\u001b[0;34m\u001b[0m\u001b[0;34m\u001b[0m\u001b[0m\n\u001b[0m\u001b[1;32m      4\u001b[0m \u001b[0mset_async\u001b[0m\u001b[0;34m(\u001b[0m\u001b[0;34m)\u001b[0m\u001b[0;34m\u001b[0m\u001b[0;34m\u001b[0m\u001b[0m\n\u001b[1;32m      5\u001b[0m \u001b[0mapi\u001b[0m \u001b[0;34m=\u001b[0m \u001b[0mTikTokApi\u001b[0m\u001b[0;34m(\u001b[0m\u001b[0;34m)\u001b[0m\u001b[0;34m\u001b[0m\u001b[0;34m\u001b[0m\u001b[0m\n",
      "\u001b[0;31mImportError\u001b[0m: cannot import name 'set_async' from 'TikTokApi.browser' (/Users/jonathanschlosser/opt/anaconda3/lib/python3.7/site-packages/TikTokApi/browser.py)"
     ]
    }
   ],
   "source": [
    "import json\n",
    "from TikTokApi import TikTokApi\n",
    "from TikTokApi.browser import set_async\n",
    "\n",
    "set_async()\n",
    "\n",
    "api = TikTokApi()"
   ]
  },
  {
   "cell_type": "markdown",
   "metadata": {},
   "source": [
    "#### Trending Challenges"
   ]
  },
  {
   "cell_type": "code",
   "execution_count": 4,
   "metadata": {},
   "outputs": [
    {
     "ename": "NameError",
     "evalue": "name 'api' is not defined",
     "output_type": "error",
     "traceback": [
      "\u001b[0;31m---------------------------------------------------------------------------\u001b[0m",
      "\u001b[0;31mNameError\u001b[0m                                 Traceback (most recent call last)",
      "\u001b[0;32m<ipython-input-4-acb1001d1dfd>\u001b[0m in \u001b[0;36m<module>\u001b[0;34m\u001b[0m\n\u001b[0;32m----> 1\u001b[0;31m \u001b[0mtrendingChallenges\u001b[0m \u001b[0;34m=\u001b[0m \u001b[0mapi\u001b[0m\u001b[0;34m.\u001b[0m\u001b[0mdiscoverHashtags\u001b[0m\u001b[0;34m(\u001b[0m\u001b[0;34m)\u001b[0m\u001b[0;34m\u001b[0m\u001b[0;34m\u001b[0m\u001b[0m\n\u001b[0m\u001b[1;32m      2\u001b[0m \u001b[0;34m\u001b[0m\u001b[0m\n\u001b[1;32m      3\u001b[0m \u001b[0;32mfor\u001b[0m \u001b[0mtiktok\u001b[0m \u001b[0;32min\u001b[0m \u001b[0mtrendingChallenges\u001b[0m\u001b[0;34m:\u001b[0m\u001b[0;34m\u001b[0m\u001b[0;34m\u001b[0m\u001b[0m\n\u001b[1;32m      4\u001b[0m     print(tiktok['cardItem']['title'], tiktok['cardItem']['description'],\n\u001b[1;32m      5\u001b[0m          tiktok['cardItem']['subTitle'])\n",
      "\u001b[0;31mNameError\u001b[0m: name 'api' is not defined"
     ]
    }
   ],
   "source": [
    "trendingChallenges = api.discoverHashtags()\n",
    "\n",
    "for tiktok in trendingChallenges:\n",
    "    print(tiktok['cardItem']['title'], tiktok['cardItem']['description'],\n",
    "         tiktok['cardItem']['subTitle'])"
   ]
  },
  {
   "cell_type": "markdown",
   "metadata": {},
   "source": [
    "#### TikToks By Hashtag"
   ]
  },
  {
   "cell_type": "code",
   "execution_count": null,
   "metadata": {},
   "outputs": [],
   "source": [
    "count = '10'\n",
    "\n",
    "tiktoks = api.byHashtag(\"#dance\")\n",
    "\n",
    "for tiktok in tiktoks:\n",
    "    print(tiktok)"
   ]
  },
  {
   "cell_type": "markdown",
   "metadata": {},
   "source": [
    "#### TikToks By A Set Value"
   ]
  },
  {
   "cell_type": "code",
   "execution_count": null,
   "metadata": {},
   "outputs": [],
   "source": [
    "# By ID - this code is flawed at moment... dont use... mwhahahahaha\n",
    "count = 10\n",
    "\n",
    "tiktoks = api.getTikTokById(id=\"XXXXXXXXXXXX\", count=count)\n",
    "\n",
    "for tiktok in tiktoks:\n",
    "    print(tiktok)\n",
    "\n",
    "    \n",
    "# By URL\n",
    "\n",
    "tiktoks = api.getTikTokByUrl(id=\"XXXXXXXXXXXX\", count=count)\n",
    "\n",
    "for tiktok in tiktoks:\n",
    "    print(tiktok)"
   ]
  },
  {
   "cell_type": "markdown",
   "metadata": {},
   "source": [
    "#### Getting User Information"
   ]
  },
  {
   "cell_type": "code",
   "execution_count": null,
   "metadata": {},
   "outputs": [],
   "source": [
    "count = 10\n",
    "username = 'washingtonpost'\n",
    "\n",
    "tiktoks = api.getUser(username, count=count)\n",
    "\n",
    "print(' Unique ID:\\t', tiktoks['user']['uniqueId'], '\\n', 'NickName:\\t', tiktoks['user']['nickname'], '\\n', \n",
    "      'Verified:\\t', tiktoks['user']['verified'], '\\n', 'Following:\\t', tiktoks['stats']['followingCount'], '\\n', \n",
    "      'Followers:\\t', tiktoks['stats']['followerCount'], '\\n', 'Heart Count:\\t', tiktoks['stats']['heartCount'],\n",
    "      '\\n', 'Video Count:\\t', tiktoks['stats']['videoCount'])"
   ]
  },
  {
   "cell_type": "markdown",
   "metadata": {},
   "source": [
    "#### Trending Videos on Tik Tok"
   ]
  },
  {
   "cell_type": "code",
   "execution_count": null,
   "metadata": {},
   "outputs": [],
   "source": [
    "results = 10\n",
    "\n",
    "trending = api.trending(count=results)\n",
    "\n",
    "for tiktok in trending:\n",
    "    # Prints the id of the tiktok\n",
    "    print(tiktok['id'])\n",
    "\n",
    "print(len(trending))"
   ]
  },
  {
   "cell_type": "markdown",
   "metadata": {},
   "source": [
    "#### Videos By Username"
   ]
  },
  {
   "cell_type": "code",
   "execution_count": null,
   "metadata": {},
   "outputs": [],
   "source": [
    "n_videos = 10\n",
    "username = 'washingtonpost'\n",
    "user_videos = api.byUsername(username, count=n_videos)\n",
    "user_videos\n",
    "#for tiktok in user_videos:\n",
    "    #print(tiktok['desc'])"
   ]
  },
  {
   "cell_type": "markdown",
   "metadata": {},
   "source": [
    "### Youtube"
   ]
  },
  {
   "cell_type": "code",
   "execution_count": null,
   "metadata": {},
   "outputs": [],
   "source": []
  }
 ],
 "metadata": {
  "kernelspec": {
   "display_name": "Python 3",
   "language": "python",
   "name": "python3"
  },
  "language_info": {
   "codemirror_mode": {
    "name": "ipython",
    "version": 3
   },
   "file_extension": ".py",
   "mimetype": "text/x-python",
   "name": "python",
   "nbconvert_exporter": "python",
   "pygments_lexer": "ipython3",
   "version": "3.7.6"
  }
 },
 "nbformat": 4,
 "nbformat_minor": 4
}
